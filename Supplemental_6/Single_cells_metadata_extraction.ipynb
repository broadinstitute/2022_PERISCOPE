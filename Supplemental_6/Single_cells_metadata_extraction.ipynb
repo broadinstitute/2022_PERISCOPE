{
 "cells": [
  {
   "cell_type": "code",
   "execution_count": 1,
   "id": "b43fa511-5a7a-4d61-a738-1f63d10bd627",
   "metadata": {},
   "outputs": [],
   "source": [
    "import pandas as pd\n",
    "import seaborn as sns\n",
    "import matplotlib.pyplot as plt\n",
    "import pathlib"
   ]
  },
  {
   "cell_type": "code",
   "execution_count": null,
   "id": "1483d0fa-c1cf-462a-865c-c92803b5fbdd",
   "metadata": {},
   "outputs": [],
   "source": [
    "# load and select the metadata column names from the single-cell profiles\n",
    "filename = '20210422_6W_CP257_single_cell_profiles_ALLBATCHES___CP257A___ALLWELLS.csv.gz' \n",
    "\n",
    "df = pd.read_csv(filename, nrows=20)\n",
    "col_list = list(df)[:31]"
   ]
  },
  {
   "cell_type": "code",
   "execution_count": null,
   "id": "adb97e1b-66df-4ece-9800-eb4769431b4b",
   "metadata": {},
   "outputs": [],
   "source": [
    "# load and subset the single-cell profiles per plate for HeLa screen plates (both arms)\n",
    "plates = ['CP257A','CP257B','CP257D','CP257F','CP257J','CP257H','CP257K','CP257L','CP257N']\n",
    "chunksize = 10 ** 5\n",
    "\n",
    "for plate in plates:\n",
    "    filename = f'20210422_6W_CP257_single_cell_profiles_ALLBATCHES___{plate}___ALLWELLS.csv.gz' \n",
    "    df = pd.read_csv(filename, nrows=20)\n",
    "    col_list = list(df)[:31]\n",
    "    chunks = []\n",
    "    with pd.read_csv(filename,usecols=col_list ,chunksize=chunksize) as reader:\n",
    "        for chunk in reader:\n",
    "            chunks.append(chunk)\n",
    "            print(chunk.shape,f'of plate {plate}')\n",
    "\n",
    "    df = pd.concat(chunks)\n",
    "    df.to_csv(f'Single_cell_metadata/20210422_6W_CP257_single_cell_metadata_{plate}_ALLWELLS.csv.gz')"
   ]
  },
  {
   "cell_type": "code",
   "execution_count": null,
   "id": "ad5db03b-2228-46ad-aa0b-8a1ec7b36d62",
   "metadata": {},
   "outputs": [],
   "source": [
    "# load and subset the single-cell profiles per plate for A549 screen plates\n",
    "plates = ['CP186A','CP186B','CP186C','CP186D','CP186E','CP186F','CP186G','CP186H','CP186N']\n",
    "chunksize = 10 ** 5\n",
    "\n",
    "for plate in plates:\n",
    "    filename = f'20200805_A549_WG_Screen_single_cell_profiles_ALLBATCHES___{plate}___ALLWELLS.csv.gz' \n",
    "    df = pd.read_csv(filename, nrows=20)\n",
    "    col_list = list(df)[:31]\n",
    "    chunks = []\n",
    "    with pd.read_csv(filename,usecols=col_list ,chunksize=chunksize) as reader:\n",
    "        for chunk in reader:\n",
    "            chunks.append(chunk)\n",
    "            print(chunk.shape,f'of plate {plate}')\n",
    "\n",
    "    df = pd.concat(chunks)\n",
    "    df.to_csv(f'Single_cell_metadata/20200805_A549_WG_Screen_single_cell_metadata_{plate}_ALLWELLS.csv.gz')"
   ]
  },
  {
   "cell_type": "code",
   "execution_count": null,
   "id": "8fc0167c-507b-4c97-9ae7-d91cd8674249",
   "metadata": {},
   "outputs": [],
   "source": []
  }
 ],
 "metadata": {
  "kernelspec": {
   "display_name": "Python 3",
   "language": "python",
   "name": "python3"
  },
  "language_info": {
   "codemirror_mode": {
    "name": "ipython",
    "version": 3
   },
   "file_extension": ".py",
   "mimetype": "text/x-python",
   "name": "python",
   "nbconvert_exporter": "python",
   "pygments_lexer": "ipython3",
   "version": "3.7.1"
  }
 },
 "nbformat": 4,
 "nbformat_minor": 5
}
