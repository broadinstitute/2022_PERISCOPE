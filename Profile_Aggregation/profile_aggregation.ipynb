{
 "cells": [
  {
   "cell_type": "code",
   "execution_count": null,
   "metadata": {},
   "outputs": [],
   "source": [
    "import os\n",
    "import pandas as pd\n",
    "import numpy as np\n",
    "from pycytominer import normalize,feature_select,aggregate,consensus\n",
    "from pycytominer.cyto_utils import output,infer_cp_features\n",
    "from pycytominer.cyto_utils.util import (\n",
    "    get_pairwise_correlation,\n",
    "    check_correlation_method,\n",
    "    infer_cp_features,\n",
    ")"
   ]
  },
  {
   "cell_type": "code",
   "execution_count": null,
   "metadata": {},
   "outputs": [],
   "source": [
    "# Set data input folder\n",
    "# Before running notebook, download files described in README.md to this folder\n",
    "input_folder = \"inputs_data\"\n",
    "\n",
    "# Set output folder\n",
    "output_folder = \"outputs\"\n",
    "if not os.path.exists(output_folder):\n",
    "    os.makedirs(output_folder, exist_ok=True)\n"
   ]
  },
  {
   "cell_type": "code",
   "execution_count": null,
   "metadata": {},
   "outputs": [],
   "source": [
    "# Load barcodes used in experiment\n",
    "guide_df = pd.read_csv('../common_files/Barcodes.csv')\n",
    "# Guides with other dialouts were not used in this experiment\n",
    "guide_df = guide_df.query('dialout == 1 | dialout ==3')\n",
    "guide_list = list(guide_df['sgRNA'])"
   ]
  },
  {
   "cell_type": "markdown",
   "metadata": {},
   "source": [
    "# Plate level aggregation"
   ]
  },
  {
   "cell_type": "markdown",
   "metadata": {},
   "source": [
    "## HeLa"
   ]
  },
  {
   "cell_type": "code",
   "execution_count": null,
   "metadata": {},
   "outputs": [],
   "source": [
    "# Aggregation may be too computationally intensive for a standard personal computer\n",
    "# Skip aggregation by downloading aggregated files following instructions in README.md\n",
    "\n",
    "# Load normalized plate_level profiles, remove ghost guides, and merge \n",
    "DMEM_plates = ['CP257A','CP257B','CP257D','CP257F','CP257H']\n",
    "HPLM_plates = ['CP257J','CP257K','CP257L','CP257N']\n",
    "\n",
    "DMEM_list = []\n",
    "for plate in DMEM_plates:\n",
    "    filename = f'20210422_6W_CP257_guide_normalized_ALLBATCHES___{plate}___ALLWELLS.csv.gz'\n",
    "    pre_DMEM_df = pd.read_csv(os.path.join(input_folder, filename))\n",
    "    pre_DMEM_df = pre_DMEM_df[pre_DMEM_df[\"Metadata_Foci_Barcode_MatchedTo_Barcode\"].isin(guide_list)]\n",
    "    DMEM_list.append(pre_DMEM_df)\n",
    "\n",
    "HeLa_DMEM_df = pd.concat(DMEM_list)\n",
    "\n",
    "HPLM_list = []\n",
    "for plate in HPLM_plates:\n",
    "    filename = f'20210422_6W_CP257_guide_normalized_ALLBATCHES___{plate}___ALLWELLS.csv.gz'\n",
    "    pre_HPLM_df = pd.read_csv(os.path.join(input_folder, filename))\n",
    "    pre_HPLM_df = pre_HPLM_df[pre_HPLM_df[\"Metadata_Foci_Barcode_MatchedTo_Barcode\"].isin(guide_list)]\n",
    "    HPLM_list.append(pre_HPLM_df)\n",
    "\n",
    "HeLa_HPLM_df = pd.concat(HPLM_list)\n",
    "\n",
    "HeLa_DMEM_df.head()"
   ]
  },
  {
   "cell_type": "code",
   "execution_count": null,
   "metadata": {},
   "outputs": [],
   "source": [
    "# Perform feature selection on merged profiles\n",
    "HeLa_DMEM_feature_selected_df = feature_select(\n",
    "            profiles=HeLa_DMEM_df,\n",
    "            features='infer',\n",
    "            samples='all',\n",
    "            operation=['variance_threshold','correlation_threshold','drop_na_columns','blocklist'],\n",
    "            na_cutoff= 0,\n",
    "            corr_threshold=0.9\n",
    "        )\n",
    "\n",
    "HeLa_DMEM_feature_selected_df.to_csv(os.path.join(output_folder,'20210422_6W_CP257_guide_normalized_feature_select_merged_ALLBATCHES___DMEM___ALLWELLS.csv.gz'))\n",
    "\n",
    "HeLa_HPLM_feature_selected_df = feature_select(\n",
    "            profiles=HeLa_HPLM_df,\n",
    "            features='infer',\n",
    "            samples='all',\n",
    "            operation=['variance_threshold','correlation_threshold','drop_na_columns','blocklist'],\n",
    "            na_cutoff= 0,\n",
    "            corr_threshold=0.9\n",
    "        )\n",
    "\n",
    "HeLa_HPLM_feature_selected_df.to_csv(os.path.join(output_folder,'20210422_6W_CP257_guide_normalized_feature_select_merged_ALLBATCHES___HPLM___ALLWELLS.csv.gz'))"
   ]
  },
  {
   "cell_type": "code",
   "execution_count": null,
   "metadata": {},
   "outputs": [],
   "source": [
    "# Perform median aggregation on profiles\n",
    "HeLa_DMEM_feature_selected_median_df= aggregate(\n",
    "                    population_df=HeLa_DMEM_feature_selected_df, \n",
    "                    strata=['Metadata_Foci_Barcode_MatchedTo_GeneCode' ,'Metadata_Foci_Barcode_MatchedTo_Barcode'], \n",
    "                    features='infer', \n",
    "                    operation='median' \n",
    "                    )\n",
    "\n",
    "HeLa_DMEM_feature_selected_median_df.to_csv(os.path.join(output_folder,'20210422_6W_CP257_guide_normalized_feature_select_median_merged_ALLBATCHES___DMEM___ALLWELLS.csv.gz',index = False))\n",
    "\n",
    "HeLa_HPLM_feature_selected_median_df= aggregate(\n",
    "                    population_df=HeLa_HPLM_feature_selected_df, \n",
    "                    strata=['Metadata_Foci_Barcode_MatchedTo_GeneCode' ,'Metadata_Foci_Barcode_MatchedTo_Barcode'], \n",
    "                    features='infer', \n",
    "                    operation='median' \n",
    "                    )\n",
    "\n",
    "HeLa_HPLM_feature_selected_median_df.to_csv(os.path.join(output_folder,'20210422_6W_CP257_guide_normalized_feature_select_median_merged_ALLBATCHES___HPLM___ALLWELLS.csv.gz',index = False))"
   ]
  },
  {
   "cell_type": "markdown",
   "metadata": {},
   "source": [
    "## A549"
   ]
  },
  {
   "cell_type": "code",
   "execution_count": null,
   "metadata": {},
   "outputs": [],
   "source": [
    "# Load normalized plate_level profiles, remove ghost guides, and merge \n",
    "plates = ['CP186','CP186B','CP186C','CP186D','CP186E','CP186F','CP186G','CP186H','CP186N']\n",
    "\n",
    "A549_list = []\n",
    "for plate in plates:\n",
    "    filename = f'20210422_6W_CP257_guide_normalized_ALLBATCHES___{plate}___ALLWELLS.csv.gz'\n",
    "    pre_df = pd.read_csv(os.path.join(input_folder, filename))\n",
    "    pre_df = pre_df[pre_df[\"Metadata_Foci_Barcode_MatchedTo_Barcode\"].isin(guide_list)]\n",
    "    A549_list.append(pre_df)\n",
    "\n",
    "A549_df = pd.concat(A549_list)\n",
    "A549_df.head()"
   ]
  },
  {
   "cell_type": "code",
   "execution_count": null,
   "metadata": {},
   "outputs": [],
   "source": [
    "# Perform feature selection on merged profiles\n",
    "A549_feature_selected_df = feature_select(\n",
    "            profiles=A549_df,\n",
    "            features='infer',\n",
    "            samples='all',\n",
    "            operation=['variance_threshold','correlation_threshold','drop_na_columns','blocklist'],\n",
    "            na_cutoff= 0,\n",
    "            corr_threshold=0.9\n",
    "        )\n",
    "\n",
    "A549_feature_selected_df.to_csv(os.path.join(output_folder,'20200805_A549_WG_Screen_guide_normalized_feature_select_merged_ALLBATCHES___CP186___ALLWELLS.csv.gz'))"
   ]
  },
  {
   "cell_type": "code",
   "execution_count": null,
   "metadata": {},
   "outputs": [],
   "source": [
    "# Perform median aggregation on profiles\n",
    "A549_feature_selected_median_df= aggregate(\n",
    "                    population_df=A549_feature_selected_df, \n",
    "                    strata=['Metadata_Foci_Barcode_MatchedTo_GeneCode' ,'Metadata_Foci_Barcode_MatchedTo_Barcode'], \n",
    "                    features='infer', \n",
    "                    operation='median' \n",
    "                    )\n",
    "\n",
    "A549_feature_selected_median_df.to_csv(os.path.join(output_folder,'20200805_A549_WG_Screen_guide_normalized_feature_select_median_merged_ALLBATCHES___CP186___ALLWELLS.csv.gz',index = False))"
   ]
  },
  {
   "cell_type": "markdown",
   "metadata": {},
   "source": [
    "# Gene level aggregation"
   ]
  },
  {
   "cell_type": "code",
   "execution_count": null,
   "metadata": {},
   "outputs": [],
   "source": [
    "\n",
    "# List files to undergo gene level aggregation\n",
    "file_list = [\"20200805_A549_WG_Screen_guide_normalized_feature_select_merged_median_ALLBATCHES___CP186___ALLWELLS.csv.gz\",\n",
    "\"20210422_6W_CP257_guide_normalized_feature_select_median_merged_ALLBATCHES___DMEM___ALLWELLS.csv.gz\",\n",
    "\"20210422_6W_CP257_guide_normalized_feature_select_median_merged_ALLBATCHES___HPLM___ALLWELLS.csv.gz\"]\n",
    "\n",
    "# Set aggregation parameters for gene level aggregation\n",
    "aggregate_columns = ['Metadata_Foci_Barcode_MatchedTo_GeneCode']\n",
    "aggregate_features = 'infer'\n",
    "aggregate_operation = 'median'"
   ]
  },
  {
   "cell_type": "code",
   "execution_count": null,
   "metadata": {},
   "outputs": [],
   "source": [
    "# Perform profile aggregation\n",
    "for profile_file in file_list:\n",
    "    print (f\"Now loading {profile_file}\")\n",
    "    df = pd.read_csv(os.path.join(input_folder,profile_file))\n",
    "    df = df[df[\"Metadata_Foci_Barcode_MatchedTo_Barcode\"].isin(guide_list)]\n",
    "\n",
    "    print (f\"Now aggregating.\")\n",
    "    gene_df = aggregate(\n",
    "            population_df=df,\n",
    "            strata=aggregate_columns,\n",
    "            features=aggregate_features,\n",
    "            operation=aggregate_operation,\n",
    "            )\n",
    "\n",
    "    print (f\"Now saving aggregated file.\")\n",
    "    agg_file_name = f\"{profile_file.split('.',1)[0]}_gene_aggregated.{profile_file.split('.',1)[1]}\"\n",
    "    gene_df.to_csv(os.path.join(output_folder, agg_file_name), index=False)"
   ]
  },
  {
   "cell_type": "code",
   "execution_count": null,
   "metadata": {},
   "outputs": [],
   "source": [
    "dmem_median_gene_index_df = dmem_median_gene_df.set_index('Metadata_Foci_Barcode_MatchedTo_GeneCode').dropna()\n",
    "dmem_median_gene_index_df"
   ]
  },
  {
   "cell_type": "code",
   "execution_count": null,
   "metadata": {},
   "outputs": [],
   "source": [
    "def heat_map(data,title,file_name):\n",
    "        corr = data.corr()\n",
    "        \n",
    "        plt.clf()\n",
    "        sns.set(rc={'figure.figsize':(30,30)})\n",
    "\n",
    "        ax = sns.heatmap(\n",
    "            corr, \n",
    "            vmin=-1, vmax=1, center=0,\n",
    "            cmap=sns.diverging_palette(10, 220, n=200),\n",
    "            linewidth = 0.2,\n",
    "            linecolor='white',\n",
    "            square=True,\n",
    "            cbar_kws={\"shrink\": .76}\n",
    "        )\n",
    "        ax.set_xticklabels(\n",
    "            ax.get_xticklabels(),\n",
    "            rotation=90,\n",
    "            horizontalalignment='right'\n",
    "        )\n",
    "        ax.set_title(title,fontsize=30)\n",
    "        \n",
    "        plt.tight_layout()\n",
    "        fig = ax.get_figure()\n",
    "        \n",
    "        output_file = pathlib.Path(f\"{file_name}\")\n",
    "        fig.savefig(output_file,dpi=300)\n",
    "\n",
    "def clustered_heat_map(data,title,file_name):\n",
    "        corr = data.corr()\n",
    "        sns.set(font_scale=0.8)\n",
    "\n",
    "        ax = sns.clustermap(\n",
    "            corr, \n",
    "            vmin=-1, vmax=1, center=0,\n",
    "            method = 'ward',\n",
    "            figsize = (30 ,30),\n",
    "            cmap=sns.diverging_palette(10, 220, n=200),\n",
    "            linewidth = 0.2,\n",
    "            linecolor='white',\n",
    "            dendrogram_ratio =0.1,\n",
    "            square=True,\n",
    "            cbar_kws={\"shrink\": .6}\n",
    "        )\n",
    "        ax.fig.suptitle(title,fontsize=30)\n",
    "        \n",
    "        output_file = pathlib.Path(f\"{file_name}\")\n",
    "        ax.savefig(output_file,dpi=300) \n"
   ]
  },
  {
   "cell_type": "code",
   "execution_count": null,
   "metadata": {},
   "outputs": [],
   "source": [
    "clustered_heat_map(dmem_median_gene_index_df.T,'CP257 DMEM_arm Median Aggregated Clustered Profile Heatmap - gene level hits(From well_level)','cp257_dmem_median_profile_heatmap_clustering_gene_hits_well_level.png')\n",
    "heat_map(dmem_median_gene_index_df.T,'CP257 DMEM_arm Median Aggregated Profile Heatmap - gene level hits(From well_level)','cp257_dmem_median_profile_heatmap_gene_hits_well_level')"
   ]
  }
 ],
 "metadata": {
  "kernelspec": {
   "display_name": "Python 3.7.1 ('periscope_2022')",
   "language": "python",
   "name": "python3"
  },
  "language_info": {
   "codemirror_mode": {
    "name": "ipython",
    "version": 3
   },
   "file_extension": ".py",
   "mimetype": "text/x-python",
   "name": "python",
   "nbconvert_exporter": "python",
   "pygments_lexer": "ipython3",
   "version": "3.7.1"
  },
  "orig_nbformat": 4,
  "vscode": {
   "interpreter": {
    "hash": "e07a1a8061da688484e57eab68393ed8ff2633c54ccadcc97571992f51b911bb"
   }
  }
 },
 "nbformat": 4,
 "nbformat_minor": 2
}
